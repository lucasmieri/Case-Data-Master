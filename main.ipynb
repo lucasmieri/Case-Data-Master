{
 "cells": [
  {
   "cell_type": "code",
   "execution_count": null,
   "metadata": {},
   "outputs": [
    {
     "name": "stdout",
     "output_type": "stream",
     "text": [
      "The autoreload extension is already loaded. To reload it, use:\n",
      "  %reload_ext autoreload\n",
      "\n",
      "______________________________________________________________________________________________________________________________________________________\n",
      "1.Read and Analyze Data\n",
      "\n",
      "\n",
      "______________________________________________________________________________________________________________________________________________________\n",
      "Reading file: c:\\Users\\Lucas\\OneDrive\\case data master\\data\\raw\\members.parquet\n",
      "\n",
      "\n",
      "--- Analyzing members.parquet DataFrame ---\n",
      "\n",
      "\n",
      "Displaying first few rows:\n",
      "\n",
      "\n",
      "\n",
      "| msno                                         |   safra |   registration_init_time |   city |   bd | gender   |   registered_via |   is_ativo |\n",
      "|:---------------------------------------------|--------:|-------------------------:|-------:|-----:|:---------|-----------------:|-----------:|\n",
      "| +++snpr7pmobhLKUgSHTv/mpkqgBT0tQJ0zQj6qKrqc= |  201612 |                 20140927 |      1 |    0 | <NA>     |                7 |          1 |\n",
      "| ++/AwGzubug3gT6J+0STBGMdWKxaM+UFZTI8Tcmq4To= |  201607 |                 20150322 |      1 |    0 | <NA>     |                9 |          0 |\n",
      "| ++/Gw1B9K+XOlB3hLTloeUK2QlCa2m+BJ8TrzGf7djI= |  201601 |                 20121217 |     15 |   32 | male     |                3 |          1 |\n",
      "| ++02XbtviomSxcIBUHMOiJkjRxdicTXSfiVqLdsr5lo= |  201603 |                 20131112 |     14 |   21 | male     |                7 |          0 |\n",
      "| ++0O0Bq04sB/9ZcOS+pajpYL2Hin9jCqnc/8bKzKFuE= |  201610 |                 20141021 |      5 |   33 | male     |                3 |          0 |\n",
      "| ++2AQgVgYUAqJDw684tbDqDffUeKhqydyQmbr8lz9lQ= |  201608 |                 20150416 |     18 |   23 | male     |                3 |          0 |\n",
      "| ++2gRJ7i2MbO6qUG6rGfFnu/Fcv+hdX4YvTkZD+PUsk= |  201608 |                 20140616 |     11 |   33 | male     |                7 |          0 |\n",
      "| ++3brN43Yd6GURegTBR85oMQcJrgW1+/N4B8Rjj75fY= |  201604 |                 20100512 |     14 |   19 | male     |                9 |          0 |\n",
      "| ++4FwgRp7pHuuQWpaUFrCTgJbXVwNTTQpLB2bM1A3lU= |  201605 |                 20141010 |      1 |    0 | <NA>     |                9 |          0 |\n",
      "| ++4KsBMCDgIrwmv5w2g2cCXhzCsJwDyB5r96/FrwGek= |  201604 |                 20141031 |      1 |    0 | <NA>     |                9 |          0 |\n",
      "\n",
      "\n",
      "\n",
      "\n",
      "DataFrame info for members.parquet:\n",
      "\n",
      "\n",
      "msno                      string[pyarrow]\n",
      "safra                     string[pyarrow]\n",
      "registration_init_time    string[pyarrow]\n",
      "city                      string[pyarrow]\n",
      "bd                        string[pyarrow]\n",
      "gender                    string[pyarrow]\n",
      "registered_via            string[pyarrow]\n",
      "is_ativo                            int32\n",
      "dtype: object\n",
      "\n",
      "\n",
      "\n",
      "Summary statistics:\n",
      "\n",
      "\n",
      "           is_ativo\n",
      "count  6.386725e+07\n",
      "mean   1.760349e-01\n",
      "std    3.808499e-01\n",
      "min    0.000000e+00\n",
      "25%    0.000000e+00\n",
      "50%    0.000000e+00\n",
      "75%    0.000000e+00\n",
      "max    1.000000e+00\n",
      "\n",
      "\n",
      "\n",
      "Missing values per column:\n",
      "\n"
     ]
    }
   ],
   "source": [
    "%load_ext autoreload\n",
    "%autoreload 2\n",
    "import os\n",
    "from src.log import configure_logging # Import the log module\n",
    "from src.prints import custom_print #Import the prints module\n",
    "from src.read_data import read_and_analyze_files  # Import the read_data module\n",
    "logger=None\n",
    "logger = configure_logging(log_dir='log')\n",
    "\n",
    "data_directory = os.path.join(os.getcwd(), 'data', 'raw')\n",
    "\n",
    "file_names = ['members.parquet', 'transactions.parquet', 'user_logs.parquet']\n",
    "custom_print(logger, '1.Read and Analyze Data', space_lines=True)\n",
    "dict_df = read_and_analyze_files(data_directory, file_names, logger)"
   ]
  },
  {
   "cell_type": "code",
   "execution_count": null,
   "metadata": {},
   "outputs": [],
   "source": []
  }
 ],
 "metadata": {
  "kernelspec": {
   "display_name": "Python 3",
   "language": "python",
   "name": "python3"
  },
  "language_info": {
   "codemirror_mode": {
    "name": "ipython",
    "version": 3
   },
   "file_extension": ".py",
   "mimetype": "text/x-python",
   "name": "python",
   "nbconvert_exporter": "python",
   "pygments_lexer": "ipython3",
   "version": "3.11.9"
  }
 },
 "nbformat": 4,
 "nbformat_minor": 2
}
